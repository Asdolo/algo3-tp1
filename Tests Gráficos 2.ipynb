{
 "cells": [
  {
   "cell_type": "code",
   "execution_count": 1,
   "metadata": {},
   "outputs": [],
   "source": [
    "import numpy as np\n",
    "import pandas as pd\n",
    "import seaborn as sns\n",
    "import matplotlib.pyplot as plt\n",
    "import math"
   ]
  },
  {
   "cell_type": "markdown",
   "metadata": {},
   "source": [
    "<h1>Test 1</h1>\n",
    "Fuerza Bruta vs Backtracking (sin podas)"
   ]
  },
  {
   "cell_type": "code",
   "execution_count": 2,
   "metadata": {},
   "outputs": [],
   "source": [
    "df_test_1_fb = pd.read_csv('output/test-1-fuerzabruta.csv')\n",
    "del df_test_1_fb['resultado']\n",
    "\n",
    "df_test_1_bt = pd.read_csv('output/test-1-backtracking.csv')\n",
    "del df_test_1_bt['resultado']"
   ]
  },
  {
   "cell_type": "code",
   "execution_count": 3,
   "metadata": {},
   "outputs": [],
   "source": [
    "# Obtengo el promedio en cada tabla\n",
    "\n",
    "df_test_1_fb = df_test_1_fb.groupby(['n', 'V'], as_index=False, sort=False).mean()\n",
    "df_test_1_bt = df_test_1_bt.groupby(['n', 'V'], as_index=False, sort=False).mean()"
   ]
  },
  {
   "cell_type": "code",
   "execution_count": 4,
   "metadata": {},
   "outputs": [
    {
     "name": "stdout",
     "output_type": "stream",
     "text": [
      "     n    V  tiempo (fuerzabruta)  tiempo (backtracking)\n",
      "0    1    1              0.041250               0.018616\n",
      "1    2    3              0.026119               0.024001\n",
      "2    3    6              0.037758               0.043642\n",
      "3    4   10              0.087493               0.064892\n",
      "4    5   15              0.155584               0.146419\n",
      "5    6   21              0.339118               0.280229\n",
      "6    7   28              0.743360               0.724814\n",
      "7    8   36              1.322362               1.148625\n",
      "8    9   45              3.121930               3.249961\n",
      "9   10   55              8.529393               3.794318\n",
      "10  11   66             16.737800              11.318467\n",
      "11  12   78             36.618530              22.141640\n",
      "12  13   91             66.824950              30.464465\n",
      "13  14  105             99.796285              62.052145\n",
      "14  15  120            236.264200             126.486050\n",
      "15  16  136            447.070650             260.023250\n",
      "16  17  153            980.872500             485.180500\n",
      "17  18  171           2002.390500             915.788950\n",
      "18  19  190           3900.630000            1824.277500\n",
      "19  20  210           8266.415500            3923.232000\n"
     ]
    }
   ],
   "source": [
    "# renombro las columnas en cada dataframe y los mergeo en uno solo\n",
    "df_test_1_fb.columns = ['n', 'V', 'tiempo (fuerzabruta)']\n",
    "df_test_1_bt.columns = ['n', 'V', 'tiempo (backtracking)']\n",
    "\n",
    "df_test_1 = df_test_1_fb\n",
    "df_test_1['tiempo (backtracking)'] = df_test_1_bt['tiempo (backtracking)']"
   ]
  },
  {
   "cell_type": "code",
   "execution_count": 16,
   "metadata": {},
   "outputs": [
    {
     "data": {
      "text/plain": [
       "[None, None]"
      ]
     },
     "execution_count": 16,
     "metadata": {},
     "output_type": "execute_result"
    },
    {
     "data": {
      "image/png": "[encoded data removed]",
      "text/plain": [
       "<Figure size 648x379.44 with 1 Axes>"
      ]
     },
     "metadata": {
      "needs_background": "light"
     },
     "output_type": "display_data"
    },
    {
     "data": {
      "image/png": "[encoded data removed]",
      "text/plain": [
       "<Figure size 576x72 with 1 Axes>"
      ]
     },
     "metadata": {
      "needs_background": "light"
     },
     "output_type": "display_data"
    }
   ],
   "source": [
    "a4_dims = (9.0, 5.27)\n",
    "fig, ax = plt.subplots(figsize=a4_dims)\n",
    "sns.palplot(sns.color_palette(\"cubehelix\", 8))\n",
    "\n",
    "ax1 = sns.lineplot(x=\"n\", y=\"tiempo (fuerzabruta)\", data=df_test_1.reset_index(), label='Fuerza Bruta', ax=ax, palette=sns.color_palette(\"cubehelix\", 8));\n",
    "ax1 = sns.lineplot(x=\"n\", y=\"tiempo (backtracking)\", data=df_test_1.reset_index(), label='Backtracking', ax=ax);\n",
    "\n",
    "\n",
    "plt.ylabel(r\"Relación $\\frac{Backtracking(n, V)}{FuerzaBruta(n, V)}$\", fontsize=16);\n",
    "plt.xlabel(\"n\", fontsize=16);\n",
    "plt.tick_params(labelsize=14)\n",
    "plt.setp(ax.lines,linewidth=3)\n",
    "\n"
   ]
  }
 ],
 "metadata": {
  "kernelspec": {
   "display_name": "Python 3",
   "language": "python",
   "name": "python3"
  },
  "language_info": {
   "codemirror_mode": {
    "name": "ipython",
    "version": 3
   },
   "file_extension": ".py",
   "mimetype": "text/x-python",
   "name": "python",
   "nbconvert_exporter": "python",
   "pygments_lexer": "ipython3",
   "version": "3.5.2"
  }
 },
 "nbformat": 4,
 "nbformat_minor": 2
}
